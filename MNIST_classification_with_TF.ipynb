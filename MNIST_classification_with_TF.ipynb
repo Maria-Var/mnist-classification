{
 "cells": [
  {
   "cell_type": "code",
   "execution_count": 43,
   "metadata": {},
   "outputs": [],
   "source": [
    "import numpy as np\n",
    "import tensorflow as tf\n",
    "\n",
    "import tensorflow_datasets as tfds"
   ]
  },
  {
   "cell_type": "markdown",
   "metadata": {},
   "source": [
    "### 1. Data loading and preprocessing"
   ]
  },
  {
   "cell_type": "code",
   "execution_count": 44,
   "metadata": {},
   "outputs": [],
   "source": [
    "# Scaling the image (dividing a value of each pixels by 255, in order to get values from 0 to 1)  \n",
    "def scale(image, label):\n",
    "    image = tf.cast(image, tf.float32)\n",
    "    image /= 255.\n",
    "    return image, label"
   ]
  },
  {
   "cell_type": "code",
   "execution_count": 48,
   "metadata": {},
   "outputs": [
    {
     "name": "stdout",
     "output_type": "stream",
     "text": [
      "num_validation_samples: tf.Tensor(6000, shape=(), dtype=int64)\n",
      "num_test_samples: tf.Tensor(10000, shape=(), dtype=int64)\n"
     ]
    }
   ],
   "source": [
    "# Loading the dataset\n",
    "mnist_dataset, mnist_info = tfds.load(name='mnist', shuffle_files=True, with_info=True, as_supervised=True)\n",
    "\n",
    "# Dividing the dataset into train and test sets\n",
    "mnist_train, mnist_test = mnist_dataset['train'], mnist_dataset['test']\n",
    "\n",
    "# Choosing the size for validation set (as 10% of the train set's size)\n",
    "num_validation_samples = 0.1 * mnist_info.splits['train'].num_examples\n",
    "num_validation_samples = tf.cast(num_validation_samples, tf.int64)\n",
    "print('num_validation_samples:', num_validation_samples)\n",
    "\n",
    "# Saving the size of test set into variable\n",
    "num_test_samples = mnist_info.splits['test'].num_examples\n",
    "num_test_samples = tf.cast(num_test_samples, tf.int64)\n",
    "print('num_test_samples:', num_test_samples)\n",
    "\n",
    "# Scaling train and validation data (dividing by 255)\n",
    "scaled_train_and_validation_data = mnist_train.map(scale)\n",
    "\n",
    "# Scaling test data (dividing by 255)\n",
    "scaled_test_data = mnist_test.map(scale)\n",
    "\n",
    "# Shuffling the data\n",
    "buffer_size = 100\n",
    "\n",
    "shuffled_train_and_validation_data = scaled_train_and_validation_data.shuffle(buffer_size)\n",
    "\n",
    "# Dividing into train and validation datasets\n",
    "validation_data = shuffled_train_and_validation_data.take(num_validation_samples)\n",
    "train_data = shuffled_train_and_validation_data.skip(num_validation_samples)\n",
    "\n",
    "# Batching the train data\n",
    "mini_batch_size = 100\n",
    "train_data = train_data.batch(mini_batch_size)\n",
    "\n",
    "# Batching validation and test data: they don't need to be batched, \n",
    "# but the model will require all data in batch form, so we take batch size as the whole set's size   \n",
    "validation_data = validation_data.batch(num_validation_samples)\n",
    "test_data = scaled_test_data.batch(num_test_samples)\n",
    "\n",
    "# make the same shape and object properties for validation data as for the train data (itarable)\n",
    "validation_inputs, validation_targets = next(iter(validation_data))"
   ]
  },
  {
   "cell_type": "markdown",
   "metadata": {},
   "source": [
    "### 2. Model"
   ]
  },
  {
   "cell_type": "code",
   "execution_count": 49,
   "metadata": {},
   "outputs": [],
   "source": [
    "input_size = 784\n",
    "output_size = 10\n",
    "hidden_layer_size = 200\n",
    "\n",
    "model = tf.keras.Sequential([\n",
    "                            tf.keras.layers.Flatten(input_shape=(28,28,1)),\n",
    "                            tf.keras.layers.Dense(hidden_layer_size, activation='relu'),\n",
    "                            tf.keras.layers.Dense(hidden_layer_size, activation='relu'),\n",
    "                            tf.keras.layers.Dense(hidden_layer_size, activation='relu'),\n",
    "                            tf.keras.layers.Dense(hidden_layer_size, activation='relu'),\n",
    "                            tf.keras.layers.Dense(hidden_layer_size, activation='relu'),                            \n",
    "                            tf.keras.layers.Dense(output_size, activation='softmax')\n",
    "                            ])\n",
    "\n",
    "# Defining optimizer and loss function.\n",
    "# sparse_categorical_crossentropy makes also a one-hot encoding for the data\n",
    "model.compile(optimizer='adam', loss='sparse_categorical_crossentropy', metrics=['accuracy'])"
   ]
  },
  {
   "cell_type": "markdown",
   "metadata": {},
   "source": [
    "### 3. Training the model"
   ]
  },
  {
   "cell_type": "code",
   "execution_count": 50,
   "metadata": {},
   "outputs": [
    {
     "name": "stdout",
     "output_type": "stream",
     "text": [
      "Epoch 1/8\n",
      "540/540 - 8s - loss: 0.2681 - accuracy: 0.9188 - val_loss: 0.0000e+00 - val_accuracy: 0.0000e+00\n",
      "Epoch 2/8\n",
      "540/540 - 8s - loss: 0.1061 - accuracy: 0.9674 - val_loss: 0.1554 - val_accuracy: 0.9582\n",
      "Epoch 3/8\n",
      "540/540 - 8s - loss: 0.0735 - accuracy: 0.9779 - val_loss: 0.1074 - val_accuracy: 0.9693\n",
      "Epoch 4/8\n",
      "540/540 - 8s - loss: 0.0574 - accuracy: 0.9815 - val_loss: 0.1113 - val_accuracy: 0.9698\n",
      "Epoch 5/8\n",
      "540/540 - 8s - loss: 0.0461 - accuracy: 0.9857 - val_loss: 0.1125 - val_accuracy: 0.9715\n",
      "Epoch 6/8\n",
      "540/540 - 8s - loss: 0.0363 - accuracy: 0.9889 - val_loss: 0.1322 - val_accuracy: 0.9692\n",
      "Epoch 7/8\n",
      "540/540 - 8s - loss: 0.0349 - accuracy: 0.9890 - val_loss: 0.1123 - val_accuracy: 0.9755\n",
      "Epoch 8/8\n",
      "540/540 - 8s - loss: 0.0292 - accuracy: 0.9916 - val_loss: 0.1223 - val_accuracy: 0.9733\n"
     ]
    },
    {
     "data": {
      "text/plain": [
       "<tensorflow.python.keras.callbacks.History at 0x2344c2d8d08>"
      ]
     },
     "execution_count": 50,
     "metadata": {},
     "output_type": "execute_result"
    }
   ],
   "source": [
    "num_epochs = 8\n",
    "\n",
    "model.fit(train_data, epochs=num_epochs, validation_data=(validation_inputs, validation_targets), validation_steps=1, verbose=2)"
   ]
  },
  {
   "cell_type": "code",
   "execution_count": null,
   "metadata": {},
   "outputs": [],
   "source": []
  }
 ],
 "metadata": {
  "kernelspec": {
   "display_name": "Python [conda env:py3-TF2.0]",
   "language": "python",
   "name": "conda-env-py3-TF2.0-py"
  },
  "language_info": {
   "codemirror_mode": {
    "name": "ipython",
    "version": 3
   },
   "file_extension": ".py",
   "mimetype": "text/x-python",
   "name": "python",
   "nbconvert_exporter": "python",
   "pygments_lexer": "ipython3",
   "version": "3.7.4"
  }
 },
 "nbformat": 4,
 "nbformat_minor": 2
}
