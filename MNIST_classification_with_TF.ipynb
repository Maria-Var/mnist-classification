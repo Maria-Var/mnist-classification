{
 "cells": [
  {
   "cell_type": "code",
   "execution_count": 1,
   "metadata": {},
   "outputs": [],
   "source": [
    "import numpy as np\n",
    "import tensorflow as tf\n",
    "\n",
    "import tensorflow_datasets as tfds"
   ]
  },
  {
   "cell_type": "markdown",
   "metadata": {},
   "source": [
    "### 1. Data loading and preprocessing"
   ]
  },
  {
   "cell_type": "code",
   "execution_count": 2,
   "metadata": {},
   "outputs": [],
   "source": [
    "# Scaling the image (dividing a value of each pixels by 255, in order to get values from 0 to 1)  \n",
    "def scale(image, label):\n",
    "    image = tf.cast(image, tf.float32)\n",
    "    image /= 255.\n",
    "    return image, label"
   ]
  },
  {
   "cell_type": "code",
   "execution_count": 3,
   "metadata": {},
   "outputs": [],
   "source": [
    "# Loading the dataset\n",
    "mnist_dataset, mnist_info = tfds.load(name='mnist', shuffle_files=True, with_info=True, as_supervised=True)\n",
    "\n",
    "# Dividing the dataset into train and test sets\n",
    "mnist_train, mnist_test = mnist_dataset['train'], mnist_dataset['test']\n",
    "\n",
    "# Choosing the size for validation set (as 10% of the train set's size)\n",
    "num_validation_samples = 0.1 * mnist_info.splits['train'].num_examples\n",
    "num_validation_samples = tf.cast(num_validation_samples, tf.int64)\n",
    "\n",
    "# Saving the size of test set into variable\n",
    "num_test_samples = mnist_info.splits['test'].num_examples\n",
    "num_test_samples = tf.cast(num_test_samples, tf.int64)\n",
    "\n",
    "# Scaling train and validation data (dividing by 255)\n",
    "scaled_train_and_validation_data = mnist_train.map(scale)\n",
    "\n",
    "# Scaling test data (dividing by 255)\n",
    "scaled_test_data = mnist_test.map(scale)\n",
    "\n",
    "# Shuffling the data\n",
    "buffer_size = 100\n",
    "\n",
    "shuffled_train_and_validation_data = scaled_train_and_validation_data.shuffle(buffer_size)\n",
    "\n",
    "# Dividing into train and validation datasets\n",
    "validation_data = shuffled_train_and_validation_data.take(num_validation_samples)\n",
    "train_data = shuffled_train_and_validation_data.skip(num_validation_samples)\n",
    "\n",
    "# Batching the train data\n",
    "mini_batch_size = 100\n",
    "train_data = train_data.batch(mini_batch_size)\n",
    "\n",
    "# Batching validation and test data: they don't need to be batched, \n",
    "# but the model will require all data in batch form, so we take batch size as the whole set's size   \n",
    "validation_data = validation_data.batch(num_validation_samples)\n",
    "test_data = scaled_test_data.batch(num_test_samples)\n",
    "\n",
    "# make the same shape and object properties for validation data as for the train data (itarable)\n",
    "validation_inputs, validation_targets = next(iter(validation_data))"
   ]
  },
  {
   "cell_type": "markdown",
   "metadata": {},
   "source": [
    "### 2. Model"
   ]
  },
  {
   "cell_type": "code",
   "execution_count": 4,
   "metadata": {},
   "outputs": [],
   "source": [
    "input_size = 784\n",
    "output_size = 10\n",
    "hidden_layer_size = 400\n",
    "\n",
    "model = tf.keras.Sequential([\n",
    "                            tf.keras.layers.Flatten(input_shape=(28,28,1)),\n",
    "                            tf.keras.layers.Dense(hidden_layer_size, activation='relu'),\n",
    "                            tf.keras.layers.Dense(hidden_layer_size, activation='relu'),\n",
    "                            tf.keras.layers.Dense(hidden_layer_size, activation='relu'),\n",
    "                            tf.keras.layers.Dense(hidden_layer_size, activation='relu'),\n",
    "                            tf.keras.layers.Dense(hidden_layer_size, activation='relu'),                            \n",
    "                            tf.keras.layers.Dense(output_size, activation='softmax')\n",
    "                            ])\n",
    "\n",
    "\n",
    "# Defining optimizer and loss function.\n",
    "# sparse_categorical_crossentropy includes making a one-hot encoding for the data.\n",
    "# Creating en optimizer customly in order to tune the learning rate\n",
    "\n",
    "custom_optimizer = tf.keras.optimizers.Adam(learning_rate=0.0001)\n",
    "model.compile(optimizer=custom_optimizer, loss='sparse_categorical_crossentropy', metrics=['accuracy'])"
   ]
  },
  {
   "cell_type": "markdown",
   "metadata": {},
   "source": [
    "### 3. Training the model"
   ]
  },
  {
   "cell_type": "code",
   "execution_count": 5,
   "metadata": {},
   "outputs": [
    {
     "name": "stdout",
     "output_type": "stream",
     "text": [
      "Epoch 1/6\n",
      "540/540 - 10s - loss: 0.4490 - accuracy: 0.8811 - val_loss: 0.0000e+00 - val_accuracy: 0.0000e+00\n",
      "Epoch 2/6\n",
      "540/540 - 10s - loss: 0.1515 - accuracy: 0.9552 - val_loss: 0.1585 - val_accuracy: 0.9530\n",
      "Epoch 3/6\n",
      "540/540 - 10s - loss: 0.1034 - accuracy: 0.9691 - val_loss: 0.1276 - val_accuracy: 0.9622\n",
      "Epoch 4/6\n",
      "540/540 - 10s - loss: 0.0756 - accuracy: 0.9785 - val_loss: 0.1104 - val_accuracy: 0.9658\n",
      "Epoch 5/6\n",
      "540/540 - 10s - loss: 0.0569 - accuracy: 0.9842 - val_loss: 0.1054 - val_accuracy: 0.9668\n",
      "Epoch 6/6\n",
      "540/540 - 10s - loss: 0.0434 - accuracy: 0.9881 - val_loss: 0.1000 - val_accuracy: 0.9703\n"
     ]
    },
    {
     "data": {
      "text/plain": [
       "<tensorflow.python.keras.callbacks.History at 0x20a310a6148>"
      ]
     },
     "execution_count": 5,
     "metadata": {},
     "output_type": "execute_result"
    }
   ],
   "source": [
    "num_epochs = 6\n",
    "\n",
    "model.fit(train_data, epochs=num_epochs, validation_data=(validation_inputs, validation_targets), validation_steps=1, verbose=2)"
   ]
  },
  {
   "cell_type": "markdown",
   "metadata": {},
   "source": [
    "### 4. Testing the model"
   ]
  },
  {
   "cell_type": "code",
   "execution_count": 6,
   "metadata": {},
   "outputs": [
    {
     "name": "stdout",
     "output_type": "stream",
     "text": [
      "1/1 [==============================] 0.0910 - accuracy: 0.97 - 2s 2s/step - loss: 0.0910 - accuracy: 0.9729\n",
      "Test loss: 0.09. Test accuracy: 97.29%\n"
     ]
    }
   ],
   "source": [
    "test_loss, test_accuracy = model.evaluate(test_data)\n",
    "print('Test loss: {0:.2f}. Test accuracy: {1:.2f}%'.format(test_loss, test_accuracy*100.))"
   ]
  }
 ],
 "metadata": {
  "kernelspec": {
   "display_name": "Python [conda env:py3-TF2.0]",
   "language": "python",
   "name": "conda-env-py3-TF2.0-py"
  },
  "language_info": {
   "codemirror_mode": {
    "name": "ipython",
    "version": 3
   },
   "file_extension": ".py",
   "mimetype": "text/x-python",
   "name": "python",
   "nbconvert_exporter": "python",
   "pygments_lexer": "ipython3",
   "version": "3.7.4"
  }
 },
 "nbformat": 4,
 "nbformat_minor": 2
}
